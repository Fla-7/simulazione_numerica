{
 "cells": [
  {
   "cell_type": "code",
   "execution_count": null,
   "id": "db2ab4f3-2ee6-4613-a2b2-764a23e2eef1",
   "metadata": {},
   "outputs": [],
   "source": [
    "import matplotlib\n",
    "import matplotlib.pyplot as plt\n",
    "import numpy as np\n",
    "import math\n",
    "\n",
    "bin=30\n",
    "\n",
    "ave=np.zeros(N)\n",
    "sigma=np.zeros(N)\n",
    "x = np.arange(N)+1\n",
    "\n",
    "ave=np.loadtxt(\"mediablocchi.out\")\n",
    "sigma=np.loadtxt(\"incertezze.out\")\n",
    "\n",
    "x*=L # Number of throws = block * (Number of throws in each block)\n",
    "plt.errorbar(x,ave-0.5,yerr=sigma)\n",
    "plt.xlabel('#throws')\n",
    "plt.ylabel('I-0.5')\n",
    "plt.grid(True)\n",
    "plt.show()\n",
    "    "
   ]
  }
 ],
 "metadata": {
  "kernelspec": {
   "display_name": "Python [conda env:base] *",
   "language": "python",
   "name": "conda-base-py"
  },
  "language_info": {
   "codemirror_mode": {
    "name": "ipython",
    "version": 3
   },
   "file_extension": ".py",
   "mimetype": "text/x-python",
   "name": "python",
   "nbconvert_exporter": "python",
   "pygments_lexer": "ipython3",
   "version": "3.12.7"
  }
 },
 "nbformat": 4,
 "nbformat_minor": 5
}
