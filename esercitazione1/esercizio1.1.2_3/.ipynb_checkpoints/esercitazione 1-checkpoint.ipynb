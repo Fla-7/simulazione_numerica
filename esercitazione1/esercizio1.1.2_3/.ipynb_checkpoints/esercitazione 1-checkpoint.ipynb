{
 "cells": [
  {
   "cell_type": "markdown",
   "id": "96a41248-a6b8-43fe-a6c9-e0a5156a5b9f",
   "metadata": {},
   "source": [
    "# <span style=\"color:magenta\"> Esercitazione 1 </span>"
   ]
  },
  {
   "cell_type": "markdown",
   "id": "bad51d2f-ff01-4e68-a365-553e24a12fc0",
   "metadata": {},
   "source": [
    "### Esercizio 1.1\n",
    "1. Stimare l'integrale I usando tecniche Monte Carlo $$I=\\int_0^1rdr=1$$ e plottare il risultato in funzione del numero di lanci, con relativo errore"
   ]
  },
  {
   "cell_type": "code",
   "execution_count": null,
   "id": "70a64f43-eb58-40b9-810e-4e3aa11e9462",
   "metadata": {},
   "outputs": [],
   "source": [
    "import matplotlib\n",
    "import matplotlib.pyplot as plt\n",
    "import numpy as np\n",
    "import math\n",
    "\n",
    "M=100000              # numero totale di tiri\n",
    "N=100                 # numero di blocchi\n",
    "L=int(M/N)            # numero di tiri in ogni blocco\n",
    "ave=np.zeros(N)\n",
    "sigma=np.zeros(N)\n",
    "x = np.arange(N)+1\n",
    "\n",
    "ave=np.loadtxt(\"dati.out\", )\n",
    "sigma=np.loadtxt(\"incertezze.out\")\n",
    "\n",
    "x*=L # Number of throws = block * (Number of throws in each block)\n",
    "plt.errorbar(x,ave-1,yerr=sigma)\n",
    "plt.xlabel('#throws')\n",
    "plt.ylabel('I-1')\n",
    "plt.grid(True)\n",
    "plt.show()\n",
    "    "
   ]
  }
 ],
 "metadata": {
  "kernelspec": {
   "display_name": "Python [conda env:base] *",
   "language": "python",
   "name": "conda-base-py"
  },
  "language_info": {
   "codemirror_mode": {
    "name": "ipython",
    "version": 3
   },
   "file_extension": ".py",
   "mimetype": "text/x-python",
   "name": "python",
   "nbconvert_exporter": "python",
   "pygments_lexer": "ipython3",
   "version": "3.12.7"
  }
 },
 "nbformat": 4,
 "nbformat_minor": 5
}
